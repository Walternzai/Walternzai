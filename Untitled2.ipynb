{
  "nbformat": 4,
  "nbformat_minor": 0,
  "metadata": {
    "colab": {
      "provenance": [],
      "authorship_tag": "ABX9TyNPsaAHIGDnlelNLvhWsWMo",
      "include_colab_link": true
    },
    "kernelspec": {
      "name": "python3",
      "display_name": "Python 3"
    },
    "language_info": {
      "name": "python"
    }
  },
  "cells": [
    {
      "cell_type": "markdown",
      "metadata": {
        "id": "view-in-github",
        "colab_type": "text"
      },
      "source": [
        "<a href=\"https://colab.research.google.com/github/Walternzai/Walternzai/blob/main/Untitled2.ipynb\" target=\"_parent\"><img src=\"https://colab.research.google.com/assets/colab-badge.svg\" alt=\"Open In Colab\"/></a>"
      ]
    },
    {
      "cell_type": "code",
      "source": [
        "import pandas as pd\n",
        "import numpy as np\n",
        "\n",
        "# Set a random seed for reproducibility\n",
        "np.random.seed(42)\n",
        "\n",
        "# Number of students in the dataset\n",
        "num_students = 200\n",
        "\n",
        "# Generate sample student data\n",
        "student_data = {\n",
        "    \"student_id\": np.arange(1, num_students + 1),  # Unique student ID\n",
        "    \"age\": np.random.randint(18, 30, size=num_students),  # Age between 18 and 30\n",
        "    \"gender\": np.random.choice(['Male', 'Female', 'Other'], size=num_students),  # Gender\n",
        "    \"ethnicity\": np.random.choice(['White', 'Black', 'Asian', 'Hispanic', 'Other'], size=num_students),  # Ethnicity\n",
        "    \"first_generation\": np.random.choice([0, 1], size=num_students),  # 0 for not first-gen, 1 for first-gen\n",
        "    \"socioeconomic_status\": np.random.choice(['Low', 'Medium', 'High'], size=num_students),  # Financial status\n",
        "    \"high_school_gpa\": np.random.uniform(2.0, 4.0, size=num_students),  # High school GPA\n",
        "    \"test_scores\": np.random.uniform(1000, 1600, size=num_students),  # SAT scores (between 1000 and 1600)\n",
        "    \"attendance_rate\": np.random.uniform(75, 100, size=num_students),  # Attendance rate (percentage)\n",
        "    \"extracurricular_involvement\": np.random.choice([0, 1], size=num_students),  # 1 for involved, 0 for not involved\n",
        "    \"credits_completed\": np.random.randint(30, 120, size=num_students),  # Number of credits completed\n",
        "    \"enrollment_in_similar_program\": np.random.choice([0, 1], size=num_students),  # 1 if they applied for a similar program\n",
        "    \"graduation_status\": np.random.choice([0, 1], size=num_students)  # 1 for graduated, 0 for not graduated\n",
        "}\n",
        "\n",
        "# Create DataFrame\n",
        "df = pd.DataFrame(student_data)\n",
        "\n",
        "# Save to CSV\n",
        "df.to_csv(\"student_data.csv\", index=False)\n",
        "\n",
        "# Display the first few rows\n",
        "print(df.head())\n",
        "import pandas as pd\n",
        "from sklearn.model_selection import train_test_split\n",
        "from sklearn.ensemble import RandomForestClassifier\n",
        "from sklearn.metrics import classification_report, confusion_matrix\n",
        "\n",
        "# Step 1: Load Data\n",
        "data = pd.read_csv('student_data.csv')\n",
        "\n",
        "# Step 2: Preprocess Data\n",
        "data.fillna(method='ffill', inplace=True)  # Fill missing values\n",
        "\n",
        "# Fix: Correct the column name from 'socio_economic_status' to 'socioeconomic_status'\n",
        "data['socioeconomic_status'] = data['socioeconomic_status'].map({'low': 0, 'medium': 1, 'high': 2})  # Encode categorical feature\n",
        "\n",
        "# Assuming previous_enrollment_status is another categorical column that needs to be encoded\n",
        "# Please verify and update the logic if this column is not present or if encoding is different\n",
        "# data['previous_enrollment_status'] = data['previous_enrollment_status'].map({'dropped': 0, 'completed': 1})  # Encode categorical feature\n",
        "\n",
        "# Step 3: Define Features and Target\n",
        "# Fix: Use the correct column name 'socioeconomic_status'\n",
        "features = data[['gpa', 'attendance', 'socioeconomic_status', 'previous_enrollment_status']]\n",
        "target = data['enrolled']\n",
        "\n",
        "# Step 4: Split Data\n",
        "X_train, X_test, y_train, y_test = train_test_split(features, target, test_size=0.2, random_state=42)\n",
        "\n",
        "# Step 5: Initialize and Train Model\n",
        "model = RandomForestClassifier(n_estimators=100, random_state=42)\n",
        "model.fit(X_train, y_train)\n",
        "\n",
        "# Step 6: Predict and Evaluate\n",
        "y_pred = model.predict(X_test)\n",
        "\n",
        "# Step 7: Print Evaluation Metrics\n",
        "print(confusion_matrix(y_test, y_pred))\n",
        "print(classification_report(y_test, y_pred))\n",
        "\n",
        "# Optional: Print feature importances\n",
        "importances = model.feature_importances_\n",
        "feature_names = features.columns\n",
        "for feature, importance in zip(feature_names, importances):\n",
        "    print(f'{feature}: {importance:.2f}')"
      ],
      "metadata": {
        "colab": {
          "base_uri": "https://localhost:8080/",
          "height": 793
        },
        "id": "9PdUNqH1i-qm",
        "outputId": "9a60a717-687c-48a3-bba5-fe9e38714482"
      },
      "execution_count": 6,
      "outputs": [
        {
          "output_type": "stream",
          "name": "stdout",
          "text": [
            "   student_id  age  gender ethnicity  first_generation socioeconomic_status  \\\n",
            "0           1   24   Other  Hispanic                 1                 High   \n",
            "1           2   21   Other     Asian                 1                  Low   \n",
            "2           3   28  Female  Hispanic                 1               Medium   \n",
            "3           4   25    Male     Black                 0                 High   \n",
            "4           5   22    Male     Black                 0                  Low   \n",
            "\n",
            "   high_school_gpa  test_scores  attendance_rate  extracurricular_involvement  \\\n",
            "0         2.757545  1374.985592        76.317096                            0   \n",
            "1         2.674894  1226.635568        77.213585                            1   \n",
            "2         3.799295  1501.938888        75.939919                            1   \n",
            "3         3.215110  1352.472163        86.994533                            0   \n",
            "4         2.488706  1176.426808        89.518930                            1   \n",
            "\n",
            "   credits_completed  enrollment_in_similar_program  graduation_status  \n",
            "0                108                              0                  1  \n",
            "1                 63                              0                  1  \n",
            "2                 65                              0                  0  \n",
            "3                 35                              1                  0  \n",
            "4                 68                              1                  1  \n"
          ]
        },
        {
          "output_type": "stream",
          "name": "stderr",
          "text": [
            "<ipython-input-6-3594a3f40d22>:44: FutureWarning: DataFrame.fillna with 'method' is deprecated and will raise in a future version. Use obj.ffill() or obj.bfill() instead.\n",
            "  data.fillna(method='ffill', inplace=True)  # Fill missing values\n"
          ]
        },
        {
          "output_type": "error",
          "ename": "KeyError",
          "evalue": "\"['gpa', 'attendance', 'previous_enrollment_status'] not in index\"",
          "traceback": [
            "\u001b[0;31m---------------------------------------------------------------------------\u001b[0m",
            "\u001b[0;31mKeyError\u001b[0m                                  Traceback (most recent call last)",
            "\u001b[0;32m<ipython-input-6-3594a3f40d22>\u001b[0m in \u001b[0;36m<cell line: 55>\u001b[0;34m()\u001b[0m\n\u001b[1;32m     53\u001b[0m \u001b[0;31m# Step 3: Define Features and Target\u001b[0m\u001b[0;34m\u001b[0m\u001b[0;34m\u001b[0m\u001b[0m\n\u001b[1;32m     54\u001b[0m \u001b[0;31m# Fix: Use the correct column name 'socioeconomic_status'\u001b[0m\u001b[0;34m\u001b[0m\u001b[0;34m\u001b[0m\u001b[0m\n\u001b[0;32m---> 55\u001b[0;31m \u001b[0mfeatures\u001b[0m \u001b[0;34m=\u001b[0m \u001b[0mdata\u001b[0m\u001b[0;34m[\u001b[0m\u001b[0;34m[\u001b[0m\u001b[0;34m'gpa'\u001b[0m\u001b[0;34m,\u001b[0m \u001b[0;34m'attendance'\u001b[0m\u001b[0;34m,\u001b[0m \u001b[0;34m'socioeconomic_status'\u001b[0m\u001b[0;34m,\u001b[0m \u001b[0;34m'previous_enrollment_status'\u001b[0m\u001b[0;34m]\u001b[0m\u001b[0;34m]\u001b[0m\u001b[0;34m\u001b[0m\u001b[0;34m\u001b[0m\u001b[0m\n\u001b[0m\u001b[1;32m     56\u001b[0m \u001b[0mtarget\u001b[0m \u001b[0;34m=\u001b[0m \u001b[0mdata\u001b[0m\u001b[0;34m[\u001b[0m\u001b[0;34m'enrolled'\u001b[0m\u001b[0;34m]\u001b[0m\u001b[0;34m\u001b[0m\u001b[0;34m\u001b[0m\u001b[0m\n\u001b[1;32m     57\u001b[0m \u001b[0;34m\u001b[0m\u001b[0m\n",
            "\u001b[0;32m/usr/local/lib/python3.10/dist-packages/pandas/core/frame.py\u001b[0m in \u001b[0;36m__getitem__\u001b[0;34m(self, key)\u001b[0m\n\u001b[1;32m   4106\u001b[0m             \u001b[0;32mif\u001b[0m \u001b[0mis_iterator\u001b[0m\u001b[0;34m(\u001b[0m\u001b[0mkey\u001b[0m\u001b[0;34m)\u001b[0m\u001b[0;34m:\u001b[0m\u001b[0;34m\u001b[0m\u001b[0;34m\u001b[0m\u001b[0m\n\u001b[1;32m   4107\u001b[0m                 \u001b[0mkey\u001b[0m \u001b[0;34m=\u001b[0m \u001b[0mlist\u001b[0m\u001b[0;34m(\u001b[0m\u001b[0mkey\u001b[0m\u001b[0;34m)\u001b[0m\u001b[0;34m\u001b[0m\u001b[0;34m\u001b[0m\u001b[0m\n\u001b[0;32m-> 4108\u001b[0;31m             \u001b[0mindexer\u001b[0m \u001b[0;34m=\u001b[0m \u001b[0mself\u001b[0m\u001b[0;34m.\u001b[0m\u001b[0mcolumns\u001b[0m\u001b[0;34m.\u001b[0m\u001b[0m_get_indexer_strict\u001b[0m\u001b[0;34m(\u001b[0m\u001b[0mkey\u001b[0m\u001b[0;34m,\u001b[0m \u001b[0;34m\"columns\"\u001b[0m\u001b[0;34m)\u001b[0m\u001b[0;34m[\u001b[0m\u001b[0;36m1\u001b[0m\u001b[0;34m]\u001b[0m\u001b[0;34m\u001b[0m\u001b[0;34m\u001b[0m\u001b[0m\n\u001b[0m\u001b[1;32m   4109\u001b[0m \u001b[0;34m\u001b[0m\u001b[0m\n\u001b[1;32m   4110\u001b[0m         \u001b[0;31m# take() does not accept boolean indexers\u001b[0m\u001b[0;34m\u001b[0m\u001b[0;34m\u001b[0m\u001b[0m\n",
            "\u001b[0;32m/usr/local/lib/python3.10/dist-packages/pandas/core/indexes/base.py\u001b[0m in \u001b[0;36m_get_indexer_strict\u001b[0;34m(self, key, axis_name)\u001b[0m\n\u001b[1;32m   6198\u001b[0m             \u001b[0mkeyarr\u001b[0m\u001b[0;34m,\u001b[0m \u001b[0mindexer\u001b[0m\u001b[0;34m,\u001b[0m \u001b[0mnew_indexer\u001b[0m \u001b[0;34m=\u001b[0m \u001b[0mself\u001b[0m\u001b[0;34m.\u001b[0m\u001b[0m_reindex_non_unique\u001b[0m\u001b[0;34m(\u001b[0m\u001b[0mkeyarr\u001b[0m\u001b[0;34m)\u001b[0m\u001b[0;34m\u001b[0m\u001b[0;34m\u001b[0m\u001b[0m\n\u001b[1;32m   6199\u001b[0m \u001b[0;34m\u001b[0m\u001b[0m\n\u001b[0;32m-> 6200\u001b[0;31m         \u001b[0mself\u001b[0m\u001b[0;34m.\u001b[0m\u001b[0m_raise_if_missing\u001b[0m\u001b[0;34m(\u001b[0m\u001b[0mkeyarr\u001b[0m\u001b[0;34m,\u001b[0m \u001b[0mindexer\u001b[0m\u001b[0;34m,\u001b[0m \u001b[0maxis_name\u001b[0m\u001b[0;34m)\u001b[0m\u001b[0;34m\u001b[0m\u001b[0;34m\u001b[0m\u001b[0m\n\u001b[0m\u001b[1;32m   6201\u001b[0m \u001b[0;34m\u001b[0m\u001b[0m\n\u001b[1;32m   6202\u001b[0m         \u001b[0mkeyarr\u001b[0m \u001b[0;34m=\u001b[0m \u001b[0mself\u001b[0m\u001b[0;34m.\u001b[0m\u001b[0mtake\u001b[0m\u001b[0;34m(\u001b[0m\u001b[0mindexer\u001b[0m\u001b[0;34m)\u001b[0m\u001b[0;34m\u001b[0m\u001b[0;34m\u001b[0m\u001b[0m\n",
            "\u001b[0;32m/usr/local/lib/python3.10/dist-packages/pandas/core/indexes/base.py\u001b[0m in \u001b[0;36m_raise_if_missing\u001b[0;34m(self, key, indexer, axis_name)\u001b[0m\n\u001b[1;32m   6250\u001b[0m \u001b[0;34m\u001b[0m\u001b[0m\n\u001b[1;32m   6251\u001b[0m             \u001b[0mnot_found\u001b[0m \u001b[0;34m=\u001b[0m \u001b[0mlist\u001b[0m\u001b[0;34m(\u001b[0m\u001b[0mensure_index\u001b[0m\u001b[0;34m(\u001b[0m\u001b[0mkey\u001b[0m\u001b[0;34m)\u001b[0m\u001b[0;34m[\u001b[0m\u001b[0mmissing_mask\u001b[0m\u001b[0;34m.\u001b[0m\u001b[0mnonzero\u001b[0m\u001b[0;34m(\u001b[0m\u001b[0;34m)\u001b[0m\u001b[0;34m[\u001b[0m\u001b[0;36m0\u001b[0m\u001b[0;34m]\u001b[0m\u001b[0;34m]\u001b[0m\u001b[0;34m.\u001b[0m\u001b[0munique\u001b[0m\u001b[0;34m(\u001b[0m\u001b[0;34m)\u001b[0m\u001b[0;34m)\u001b[0m\u001b[0;34m\u001b[0m\u001b[0;34m\u001b[0m\u001b[0m\n\u001b[0;32m-> 6252\u001b[0;31m             \u001b[0;32mraise\u001b[0m \u001b[0mKeyError\u001b[0m\u001b[0;34m(\u001b[0m\u001b[0;34mf\"{not_found} not in index\"\u001b[0m\u001b[0;34m)\u001b[0m\u001b[0;34m\u001b[0m\u001b[0;34m\u001b[0m\u001b[0m\n\u001b[0m\u001b[1;32m   6253\u001b[0m \u001b[0;34m\u001b[0m\u001b[0m\n\u001b[1;32m   6254\u001b[0m     \u001b[0;34m@\u001b[0m\u001b[0moverload\u001b[0m\u001b[0;34m\u001b[0m\u001b[0;34m\u001b[0m\u001b[0m\n",
            "\u001b[0;31mKeyError\u001b[0m: \"['gpa', 'attendance', 'previous_enrollment_status'] not in index\""
          ]
        }
      ]
    },
    {
      "source": [
        "import pandas as pd\n",
        "from sklearn.model_selection import train_test_split\n",
        "from sklearn.ensemble import RandomForestClassifier\n",
        "from sklearn.metrics import classification_report, confusion_matrix\n",
        "\n",
        "# Step 1: Load Data\n",
        "data = pd.read_csv('student_data.csv')\n",
        "\n",
        "# Step 2: Preprocess Data\n",
        "data.fillna(method='ffill', inplace=True)  # Fill missing values\n",
        "\n",
        "# Fix: Correct the column name from 'socio_economic_status' to 'socioeconomic_status'\n",
        "# Assuming 'socioeconomic_status' needs to be encoded (adjust if necessary)\n",
        "data['socioeconomic_status'] = data['socioeconomic_status'].map({'Low': 0, 'Medium': 1, 'High': 2})\n",
        "\n",
        "# Step 3: Define Features and Target\n",
        "# Use actual column names from your dataset\n",
        "# Replace with the actual names if different\n",
        "features = data[['high_school_gpa', 'attendance_rate', 'socioeconomic_status', 'enrollment_in_similar_program']]\n",
        "target = data['graduation_status'] # Assuming 'graduation_status' is the target\n",
        "\n",
        "# Step 4: Split Data\n",
        "X_train, X_test, y_train, y_test = train_test_split(features, target, test_size=0.2, random_state=42)\n",
        "\n",
        "# Step 5: Initialize and Train Model\n",
        "model = RandomForestClassifier(n_estimators=100, random_state=42)\n",
        "model.fit(X_train, y_train)\n",
        "\n",
        "# Step 6: Predict and Evaluate\n",
        "y_pred = model.predict(X_test)\n",
        "\n",
        "# Step 7: Print Evaluation Metrics\n",
        "print(confusion_matrix(y_test, y_pred))\n",
        "print(classification_report(y_test, y_pred))\n",
        "\n",
        "# Optional: Print feature importances\n",
        "importances = model.feature_importances_\n",
        "feature_names = features.columns\n",
        "for feature, importance in zip(feature_names, importances):\n",
        "    print(f'{feature}: {importance:.2f}')"
      ],
      "cell_type": "code",
      "metadata": {
        "colab": {
          "base_uri": "https://localhost:8080/"
        },
        "id": "QeBZJEtakvUT",
        "outputId": "24adc915-1c54-4903-f5ac-76d00349fdf2"
      },
      "execution_count": 7,
      "outputs": [
        {
          "output_type": "stream",
          "name": "stderr",
          "text": [
            "<ipython-input-7-f4413242c7fe>:10: FutureWarning: DataFrame.fillna with 'method' is deprecated and will raise in a future version. Use obj.ffill() or obj.bfill() instead.\n",
            "  data.fillna(method='ffill', inplace=True)  # Fill missing values\n"
          ]
        },
        {
          "output_type": "stream",
          "name": "stdout",
          "text": [
            "[[11  6]\n",
            " [ 9 14]]\n",
            "              precision    recall  f1-score   support\n",
            "\n",
            "           0       0.55      0.65      0.59        17\n",
            "           1       0.70      0.61      0.65        23\n",
            "\n",
            "    accuracy                           0.62        40\n",
            "   macro avg       0.62      0.63      0.62        40\n",
            "weighted avg       0.64      0.62      0.63        40\n",
            "\n",
            "high_school_gpa: 0.44\n",
            "attendance_rate: 0.44\n",
            "socioeconomic_status: 0.07\n",
            "enrollment_in_similar_program: 0.05\n"
          ]
        }
      ]
    }
  ]
}