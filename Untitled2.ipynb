{
  "nbformat": 4,
  "nbformat_minor": 0,
  "metadata": {
    "colab": {
      "provenance": [],
      "toc_visible": true,
      "authorship_tag": "ABX9TyPGX5v0ZX8A5sbwsfW4AkwQ",
      "include_colab_link": true
    },
    "kernelspec": {
      "name": "python3",
      "display_name": "Python 3"
    },
    "language_info": {
      "name": "python"
    }
  },
  "cells": [
    {
      "cell_type": "markdown",
      "metadata": {
        "id": "view-in-github",
        "colab_type": "text"
      },
      "source": [
        "<a href=\"https://colab.research.google.com/github/Walternzai/Walternzai/blob/main/Untitled2.ipynb\" target=\"_parent\"><img src=\"https://colab.research.google.com/assets/colab-badge.svg\" alt=\"Open In Colab\"/></a>"
      ]
    },
    {
      "cell_type": "markdown",
      "source": [],
      "metadata": {
        "id": "QFy_5sIpUZr-"
      }
    },
    {
      "cell_type": "code",
      "source": [
        "import pandas as pd\n",
        "\n",
        "# Sample data\n",
        "data = {\n",
        "    'speed': [60, 45, 80, 50, 70],\n",
        "    'weather_condition': [1, 0, 2, 1, 2],\n",
        "    'vehicle_age': [5, 10, 3, 7, 4],\n",
        "    'accident_severity': [3, 2, 4, 1, 4]\n",
        "}\n",
        "\n",
        "# Create DataFrame\n",
        "df = pd.DataFrame(data)\n",
        "\n",
        "# Save to CSV\n",
        "df.to_csv('road_accidents.csv', index=False)\n",
        "\n",
        "print(\"Sample dataset 'road_accidents.csv' created!\")\n"
      ],
      "metadata": {
        "colab": {
          "base_uri": "https://localhost:8080/"
        },
        "id": "VXNKEDcxeUz2",
        "outputId": "58b17e94-cb39-4681-a495-a8eee03fe717"
      },
      "execution_count": 9,
      "outputs": [
        {
          "output_type": "stream",
          "name": "stdout",
          "text": [
            "Sample dataset 'road_accidents.csv' created!\n"
          ]
        }
      ]
    },
    {
      "cell_type": "code",
      "source": [
        "# Importing necessary libraries\n",
        "import pandas as pd\n",
        "import numpy as np\n",
        "from sklearn.model_selection import train_test_split\n",
        "from sklearn.linear_model import LinearRegression\n",
        "from sklearn.metrics import mean_squared_error, r2_score\n",
        "import joblib\n",
        "\n",
        "# Loading the dataset\n",
        "data = pd.read_csv('road_accidents.csv')\n",
        "\n",
        "# Preprocessing data - handling missing values\n",
        "data = data.dropna()\n",
        "\n",
        "# Feature selection\n",
        "X = data[['speed', 'weather_condition', 'vehicle_age']]\n",
        "y = data['accident_severity']\n",
        "\n",
        "# Train-test split\n",
        "X_train, X_test, y_train, y_test = train_test_split(X, y, test_size=0.2, random_state=42)\n",
        "\n",
        "# Model training\n",
        "model = LinearRegression()\n",
        "model.fit(X_train, y_train)\n",
        "\n",
        "# Model evaluation\n",
        "y_pred = model.predict(X_test)\n",
        "mse = mean_squared_error(y_test, y_pred)\n",
        "r2 = r2_score(y_test, y_pred)\n",
        "\n",
        "print(f\"Mean Squared Error: {mse}\")\n",
        "print(f\"R-squared: {r2}\")\n",
        "\n",
        "# Displaying the coefficients\n",
        "coefficients = pd.DataFrame(model.coef_, X.columns, columns=['Coefficient'])\n",
        "print(coefficients)\n",
        "\n",
        "# Save the model\n",
        "joblib.dump(model, 'road_accident_severity_model.pkl')\n",
        "print(\"Model saved as 'road_accident_severity_model.pkl'\")\n",
        "\n",
        "# Hypothetical prediction\n",
        "hypothetical_data = np.array([[60, 1, 5]])\n",
        "predicted_severity = model.predict(hypothetical_data)\n",
        "print(f\"Predicted Accident Severity: {predicted_severity[0]}\")\n"
      ],
      "metadata": {
        "colab": {
          "base_uri": "https://localhost:8080/"
        },
        "id": "IG_wT7ERebXs",
        "outputId": "68b97d8f-27f8-4c77-ea33-9ef32b2b5f6c"
      },
      "execution_count": 10,
      "outputs": [
        {
          "output_type": "stream",
          "name": "stdout",
          "text": [
            "Mean Squared Error: 49.00000000000005\n",
            "R-squared: nan\n",
            "                   Coefficient\n",
            "speed                     -0.2\n",
            "weather_condition          1.0\n",
            "vehicle_age               -2.0\n",
            "Model saved as 'road_accident_severity_model.pkl'\n",
            "Predicted Accident Severity: 3.0\n"
          ]
        },
        {
          "output_type": "stream",
          "name": "stderr",
          "text": [
            "/usr/local/lib/python3.10/dist-packages/sklearn/metrics/_regression.py:1211: UndefinedMetricWarning: R^2 score is not well-defined with less than two samples.\n",
            "  warnings.warn(msg, UndefinedMetricWarning)\n",
            "/usr/local/lib/python3.10/dist-packages/sklearn/base.py:493: UserWarning: X does not have valid feature names, but LinearRegression was fitted with feature names\n",
            "  warnings.warn(\n"
          ]
        }
      ]
    }
  ]
}