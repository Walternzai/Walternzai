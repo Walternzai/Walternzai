{
  "nbformat": 4,
  "nbformat_minor": 0,
  "metadata": {
    "colab": {
      "provenance": [],
      "authorship_tag": "ABX9TyOoulWxUGGn0vnKr9flXLrC",
      "include_colab_link": true
    },
    "kernelspec": {
      "name": "python3",
      "display_name": "Python 3"
    },
    "language_info": {
      "name": "python"
    }
  },
  "cells": [
    {
      "cell_type": "markdown",
      "metadata": {
        "id": "view-in-github",
        "colab_type": "text"
      },
      "source": [
        "<a href=\"https://colab.research.google.com/github/Walternzai/Walternzai/blob/main/Untitled2.ipynb\" target=\"_parent\"><img src=\"https://colab.research.google.com/assets/colab-badge.svg\" alt=\"Open In Colab\"/></a>"
      ]
    },
    {
      "cell_type": "code",
      "source": [
        "import pandas as pd\n",
        "import numpy as np\n",
        "\n",
        "# Set a random seed for reproducibility\n",
        "np.random.seed(42)\n",
        "\n",
        "# Number of students in the dataset\n",
        "num_students = 200\n",
        "\n",
        "# Generate sample student data\n",
        "student_data = {\n",
        "    \"student_id\": np.arange(1, num_students + 1),  # Unique student ID\n",
        "    \"age\": np.random.randint(18, 30, size=num_students),  # Age between 18 and 30\n",
        "    \"gender\": np.random.choice(['Male', 'Female', 'Other'], size=num_students),  # Gender\n",
        "    \"ethnicity\": np.random.choice(['White', 'Black', 'Asian', 'Hispanic', 'Other'], size=num_students),  # Ethnicity\n",
        "    \"first_generation\": np.random.choice([0, 1], size=num_students),  # 0 for not first-gen, 1 for first-gen\n",
        "    \"socioeconomic_status\": np.random.choice(['Low', 'Medium', 'High'], size=num_students),  # Financial status\n",
        "    \"high_school_gpa\": np.random.uniform(2.0, 4.0, size=num_students),  # High school GPA\n",
        "    \"test_scores\": np.random.uniform(1000, 1600, size=num_students),  # SAT scores (between 1000 and 1600)\n",
        "    \"attendance_rate\": np.random.uniform(75, 100, size=num_students),  # Attendance rate (percentage)\n",
        "    \"extracurricular_involvement\": np.random.choice([0, 1], size=num_students),  # 1 for involved, 0 for not involved\n",
        "    \"credits_completed\": np.random.randint(30, 120, size=num_students),  # Number of credits completed\n",
        "    \"enrollment_in_similar_program\": np.random.choice([0, 1], size=num_students),  # 1 if they applied for a similar program\n",
        "    \"graduation_status\": np.random.choice([0, 1], size=num_students)  # 1 for graduated, 0 for not graduated\n",
        "}\n",
        "\n",
        "# Create DataFrame\n",
        "df = pd.DataFrame(student_data)\n",
        "\n",
        "# Save to CSV\n",
        "df.to_csv(\"student_data.csv\", index=False)\n",
        "\n"
      ],
      "metadata": {
        "id": "9PdUNqH1i-qm"
      },
      "execution_count": null,
      "outputs": []
    },
    {
      "source": [
        "import pandas as pd\n",
        "from sklearn.model_selection import train_test_split\n",
        "from sklearn.ensemble import RandomForestClassifier\n",
        "from sklearn.metrics import classification_report, confusion_matrix\n",
        "\n",
        "# Step 1: Load Data\n",
        "data = pd.read_csv('student_data.csv')\n",
        "\n",
        "# Step 2: Preprocess Data\n",
        "data.fillna(method='ffill', inplace=True)  # Fill missing values\n",
        "\n",
        "# Fix: Correct the column name from 'socio_economic_status' to 'socioeconomic_status'\n",
        "# Assuming 'socioeconomic_status' needs to be encoded (adjust if necessary)\n",
        "data['socioeconomic_status'] = data['socioeconomic_status'].map({'Low': 0, 'Medium': 1, 'High': 2})\n",
        "\n",
        "# Step 3: Define Features and Target\n",
        "# Use actual column names from your dataset\n",
        "# Replace with the actual names if different\n",
        "features = data[['high_school_gpa', 'attendance_rate', 'socioeconomic_status', 'enrollment_in_similar_program']]\n",
        "target = data['graduation_status'] # Assuming 'graduation_status' is the target\n",
        "\n",
        "# Step 4: Split Data\n",
        "X_train, X_test, y_train, y_test = train_test_split(features, target, test_size=0.2, random_state=42)\n",
        "\n",
        "# Step 5: Initialize and Train Model\n",
        "model = RandomForestClassifier(n_estimators=100, random_state=42)\n",
        "model.fit(X_train, y_train)\n",
        "\n",
        "# Step 6: Predict and Evaluate\n",
        "y_pred = model.predict(X_test)\n",
        "\n",
        "# Step 7: Print Evaluation Metrics\n",
        "print(confusion_matrix(y_test, y_pred))\n",
        "print(classification_report(y_test, y_pred))\n",
        "\n",
        "# Optional: Print feature importances\n",
        "importances = model.feature_importances_\n",
        "feature_names = features.columns\n",
        "for feature, importance in zip(feature_names, importances):\n",
        "    print(f'{feature}: {importance:.2f}')"
      ],
      "cell_type": "code",
      "metadata": {
        "colab": {
          "base_uri": "https://localhost:8080/"
        },
        "id": "QeBZJEtakvUT",
        "outputId": "4a0009c0-85b7-4887-aa8f-75bfcea48aea"
      },
      "execution_count": 8,
      "outputs": [
        {
          "output_type": "stream",
          "name": "stderr",
          "text": [
            "<ipython-input-8-f4413242c7fe>:10: FutureWarning: DataFrame.fillna with 'method' is deprecated and will raise in a future version. Use obj.ffill() or obj.bfill() instead.\n",
            "  data.fillna(method='ffill', inplace=True)  # Fill missing values\n"
          ]
        },
        {
          "output_type": "stream",
          "name": "stdout",
          "text": [
            "[[11  6]\n",
            " [ 9 14]]\n",
            "              precision    recall  f1-score   support\n",
            "\n",
            "           0       0.55      0.65      0.59        17\n",
            "           1       0.70      0.61      0.65        23\n",
            "\n",
            "    accuracy                           0.62        40\n",
            "   macro avg       0.62      0.63      0.62        40\n",
            "weighted avg       0.64      0.62      0.63        40\n",
            "\n",
            "high_school_gpa: 0.44\n",
            "attendance_rate: 0.44\n",
            "socioeconomic_status: 0.07\n",
            "enrollment_in_similar_program: 0.05\n"
          ]
        }
      ]
    }
  ]
}